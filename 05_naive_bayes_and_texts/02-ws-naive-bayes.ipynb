{
 "cells": [
  {
   "cell_type": "markdown",
   "metadata": {
    "id": "5iSqbWuBsygQ"
   },
   "source": [
    "# Теория 8. Наивный Байес и Классификация текстов\n",
    "\n",
    "### Полезная литература\n",
    "\n",
    "- [Naive Bayes and Text Classification](https://sebastianraschka.com/Articles/2014_naive_bayes_1.html)\n",
    "- [ODS - классификация](https://habrahabr.ru/company/ods/blog/322534/)\n",
    "- [Байесовский классификатор](http://www.machinelearning.ru/wiki/index.php?title=%D0%91%D0%B0%D0%B9%D0%B5%D1%81%D0%BE%D0%B2%D1%81%D0%BA%D0%B8%D0%B9_%D0%BA%D0%BB%D0%B0%D1%81%D1%81%D0%B8%D1%84%D0%B8%D0%BA%D0%B0%D1%82%D0%BE%D1%80)\n",
    "- [Интересная статья про спам/не спам](https://habrahabr.ru/post/252265/)\n",
    "\n",
    "Если вам понравилась задача распознавания текстов, то вот подборочка:\n",
    "\n",
    "- [библиотека Gensim](https://radimrehurek.com/gensim/)\n",
    "- [библиотека nltk](http://www.nltk.org/)\n",
    "- [Лекция про word2vec 🔥](https://www.youtube.com/watch?v=oBb9aFmp0Hs)\n",
    "- [Лекция Векторные представления слов и документов 🔥](https://www.youtube.com/watch?v=hiDBnEyoZS4)"
   ]
  },
  {
   "cell_type": "markdown",
   "metadata": {
    "id": "AdY9vy1LsygR"
   },
   "source": [
    "### Классификация текстов\n",
    "\n",
    "На примере [датасета SMS спама](https://archive.ics.uci.edu/ml/datasets/sms+spam+collection) научим наш классификатор отличать спам от обычного сообщения. Посмотрим как Наивный байесовский метод решает эту задачу и kNN. "
   ]
  },
  {
   "cell_type": "code",
   "execution_count": null,
   "metadata": {
    "id": "IE81HmuBsygS"
   },
   "outputs": [],
   "source": [
    "%matplotlib inline\n",
    "from matplotlib import pyplot as plt\n",
    "from sklearn.feature_extraction.text import CountVectorizer\n",
    "import numpy as np\n",
    "import pandas as pd\n",
    "import seaborn as sns\n",
    "from sklearn.model_selection import cross_val_score, train_test_split\n",
    "from sklearn.metrics import classification_report, confusion_matrix"
   ]
  },
  {
   "cell_type": "code",
   "execution_count": null,
   "metadata": {
    "colab": {
     "base_uri": "https://localhost:8080/",
     "height": 34
    },
    "id": "GnAESgw7u489",
    "outputId": "1816059e-d396-44e3-f091-d031cd30b969"
   },
   "outputs": [],
   "source": [
    "colab = True # если работаете на своём компьютере, поставьте False\n",
    "if colab:\n",
    "    from google.colab import drive\n",
    "    drive.mount('/content/drive')"
   ]
  },
  {
   "cell_type": "code",
   "execution_count": null,
   "metadata": {
    "colab": {
     "base_uri": "https://localhost:8080/",
     "height": 419
    },
    "id": "0qTuQAuEu-OY",
    "outputId": "5c74e143-c297-464e-8899-e993239768c1"
   },
   "outputs": [],
   "source": [
    "if colab:\n",
    "    data = pd.read_csv('/content/drive/My Drive/data/SMSSpamCollection.tsv.gz', compression='gzip', sep='\\t', header=None, names=['target', 'text'])\n",
    "else:\n",
    "    data = pd.read_csv(\"../data/SMSSpamCollection.tsv.gz\", compression='gzip', sep='\\t', header=None, names=['target', 'text'])\n",
    "\n",
    "data"
   ]
  },
  {
   "cell_type": "code",
   "execution_count": null,
   "metadata": {
    "colab": {
     "base_uri": "https://localhost:8080/",
     "height": 88
    },
    "id": "iMhR13o0syga",
    "outputId": "b9d19ff9-3a90-484a-9a6a-be24ac270f69"
   },
   "outputs": [],
   "source": [
    "# Посмотрим на типичных представителей датасета\n",
    "print(data['target'][2],\":\", data['text'][2])\n",
    "print()\n",
    "print(data['target'][13],\":\", data['text'][13])"
   ]
  },
  {
   "cell_type": "code",
   "execution_count": null,
   "metadata": {
    "colab": {
     "base_uri": "https://localhost:8080/",
     "height": 351
    },
    "id": "kqxa0Tt4sygd",
    "outputId": "42416b70-ee6c-408c-e751-a2a996b49a6e"
   },
   "outputs": [],
   "source": [
    "sns.countplot(data['target'])"
   ]
  },
  {
   "cell_type": "code",
   "execution_count": null,
   "metadata": {
    "id": "UM5IBueEsygg"
   },
   "outputs": [],
   "source": [
    "data['len'] = data['text'].apply(len)"
   ]
  },
  {
   "cell_type": "code",
   "execution_count": null,
   "metadata": {
    "colab": {
     "base_uri": "https://localhost:8080/",
     "height": 394
    },
    "id": "x8LhDxdrsygj",
    "outputId": "d0863374-4093-4d00-ea56-8e598abeebd4"
   },
   "outputs": [],
   "source": [
    "data.hist(column='len', by='target', bins=50,figsize=(14,5))"
   ]
  },
  {
   "cell_type": "code",
   "execution_count": null,
   "metadata": {
    "colab": {
     "base_uri": "https://localhost:8080/",
     "height": 394
    },
    "id": "SsDHxknysygq",
    "outputId": "c1b1ef32-f549-4f34-c649-65fe47693c72"
   },
   "outputs": [],
   "source": [
    "# какие-то странные длинные смс-ки. Посмотрим на распределение по-другому.\n",
    "data[data['len'] < 280].hist(column='len', by='target', bins=50,figsize=(14,5))"
   ]
  },
  {
   "cell_type": "markdown",
   "metadata": {
    "id": "mJ2UPLOhsygu"
   },
   "source": [
    "### Генерация признаков текста \n",
    "\n",
    "\n",
    "![](https://cs5.pikabu.ru/images/previews_comm/2015-10_5/144549937818821131.jpg)\n",
    "\n",
    "Алгоритмы машинного обучения работают с числовыми и категориальными данными. Если же у нас текст, его надо как-то привести к числовому виду. Для этого текст проходит предобработку, в которой можно выделить следующие стадии:\n",
    "\n",
    "1. **Токенизация**: выделение из текста слов (токенов), например с помощью регулярных выражений.\n",
    "2. **Отсечение стоп-слов**: слова, которые встречаются слишком часто, не несут никакой информации, только зашумляют данные, и их можно удалить. Это можно сделать с помощью словаря стоп-слов или просто отсекая слова, которые встречаются в обрабатываемых текстах чаще всего.\n",
    "3. **Стемминг/лемматизация**: приведение слов к начальной форме, чтобы игрорировать различия во временах, числах, падежах и прочее. При стемминге используется алгоритм, отсекающий суффиксы (который, например, преобразует books в book, leaves в leav, а was в wa), при лемматизации - словарь, который позволит выполнить эту работу более точно (но за большее время, и, собственно, нужен словарь).\n",
    "4. **Векторизация**: собственно то, ради чего всё затевалось $-$ преобразование набора слов в набор чисел. Двумя простейшими подходами являются bag-of-words, при котором просто считается, как часто встретилось каждое слово, и TF-IDF (term frequency - inverse document frequency), при котором больший вес даётся тем словам, которые встречаются в обрабатываемых текстах более редко.\n",
    "\n",
    "Второй и третий этапы можно пропускать.\n",
    "\n",
    "__источник: материалы курса [ODS](https://github.com/Yorko/mlcourse.ai)__\n",
    "\n",
    "\n",
    "[Извлечение признаков из текста в Sklearn](http://scikit-learn.org/stable/modules/feature_extraction.html#text-feature-extraction)\n",
    "\n",
    "[Сравнение качества работы мешка слов, TF-IDF и Word2Vec](http://ijaerd.com/papers/finished_papers/A_review_of_feature_extraction_methods_for_text_classification-IJAERDV05I0489982.pdf)\n",
    "\n",
    "#### Count Vectorizer (Мешок слов)\n",
    "\n",
    "[Доки по CountVectorizer](https://scikit-learn.org/stable/modules/generated/sklearn.feature_extraction.text.CountVectorizer.html#sklearn.feature_extraction.text.CountVectorizer)\n",
    "\n",
    "Можно начать с очень простой идеи. Давайте разобъем все предложения на слова. Составим словарь всех слов, которые будут встречаться во всех  наших текстах. И отметим, встречается ли это слово в нашем конкретном примере.  \n",
    "Другими словами. Пусть в таблице в строках будут предложения, в столбцах - слова, а в ячейках число, которое показывает сколько раз это слово встречалось в этом предложении. Получается, что каждому объекту выборки будет сопоставлен вектор.\n",
    "\n"
   ]
  },
  {
   "cell_type": "code",
   "execution_count": null,
   "metadata": {
    "colab": {
     "base_uri": "https://localhost:8080/",
     "height": 34
    },
    "id": "QLHmSuN7sygu",
    "outputId": "8f4ce891-ed82-4f9e-ab9c-252ac93c873d"
   },
   "outputs": [],
   "source": [
    "count_vectorizer = CountVectorizer()\n",
    "texts = [\n",
    "    \"I've been searching for the right words to thank you for this breather.\",\n",
    "    \"You have been wonderful and a blessing at all times\",\n",
    "    \"I promise i wont take your help for granted and will fulfil my promise.\"\n",
    "]\n",
    "bow = count_vectorizer.fit_transform(texts)\n",
    "print(\"Shape=\", bow.shape)"
   ]
  },
  {
   "cell_type": "code",
   "execution_count": null,
   "metadata": {
    "colab": {
     "base_uri": "https://localhost:8080/",
     "height": 493
    },
    "id": "kzZVsYMUsygx",
    "outputId": "0fdec874-aa1f-4bf7-a0ea-e917e4d586e1"
   },
   "outputs": [],
   "source": [
    "count_vectorizer.vocabulary_"
   ]
  },
  {
   "cell_type": "markdown",
   "metadata": {
    "id": "FChLiFH8syg0"
   },
   "source": [
    "Теперь составим ту самую матрицу, где в столбцах слова, а в строках тексты.  \n",
    "Как мы видим в первом и втором предложениях есть слово \"been\", а в третьем его нет."
   ]
  },
  {
   "cell_type": "code",
   "execution_count": null,
   "metadata": {
    "colab": {
     "base_uri": "https://localhost:8080/",
     "height": 119
    },
    "id": "QPzU_bTxsyg0",
    "outputId": "c692ee2e-cd4b-4013-f01e-8f3d263f9e10"
   },
   "outputs": [],
   "source": [
    "bow.todense()"
   ]
  },
  {
   "cell_type": "markdown",
   "metadata": {
    "id": "LkJsLIcqsyg3"
   },
   "source": [
    "Можно удалить \"стоп слова\" - слова, которые не несут особый смысл, но нужны для грамматики."
   ]
  },
  {
   "cell_type": "code",
   "execution_count": null,
   "metadata": {
    "colab": {
     "base_uri": "https://localhost:8080/",
     "height": 272
    },
    "id": "8cMYbd2Osyg3",
    "outputId": "8069b0dc-2d79-4628-abca-678746d5cd7c"
   },
   "outputs": [],
   "source": [
    "count_vectorizer = CountVectorizer(stop_words='english')\n",
    "bow = count_vectorizer.fit_transform(texts)\n",
    "print(\"Shape=\", bow.shape)\n",
    "count_vectorizer.vocabulary_"
   ]
  },
  {
   "cell_type": "markdown",
   "metadata": {
    "id": "l5t5gxbzsyg7"
   },
   "source": [
    "Дальше можно применять лемматизацию, стемминг и много чего другого. Но пока остановимся на этом и вернемся к спаму."
   ]
  },
  {
   "cell_type": "code",
   "execution_count": null,
   "metadata": {
    "id": "32jUgLdisyg7"
   },
   "outputs": [],
   "source": [
    "y = data['target']\n",
    "X = data['text']"
   ]
  },
  {
   "cell_type": "markdown",
   "metadata": {
    "id": "CuAxlMrAsyg-"
   },
   "source": [
    "Можно ограничить словарь сверху и снизу.  \n",
    "Выкинуть очень часто повторяющиеся слова и очень редкие. Что кстати логично, так как эти слова не несут никакого смысла.\n",
    "\n",
    "```\n",
    "max_df : float in range [0.0, 1.0] or int, default=1.0\n",
    "    When building the vocabulary ignore terms that have a document\n",
    "    frequency strictly higher than the given threshold (corpus-specific\n",
    "    stop words).\n",
    "    If float, the parameter represents a proportion of documents, integer\n",
    "    absolute counts.\n",
    "    This parameter is ignored if vocabulary is not None.\n",
    "\n",
    "min_df : float in range [0.0, 1.0] or int, default=1\n",
    "    When building the vocabulary ignore terms that have a document\n",
    "    frequency strictly lower than the given threshold. This value is also\n",
    "    called cut-off in the literature.\n",
    "    If float, the parameter represents a proportion of documents, integer\n",
    "    absolute counts.\n",
    "    This parameter is ignored if vocabulary is not None.\n",
    "```"
   ]
  },
  {
   "cell_type": "code",
   "execution_count": null,
   "metadata": {
    "id": "pkxZU6Insyg-"
   },
   "outputs": [],
   "source": [
    "vectorizer = CountVectorizer(stop_words='english', max_df=0.95, min_df=2)\n",
    "X_vector = vectorizer.fit_transform(X)"
   ]
  },
  {
   "cell_type": "code",
   "execution_count": null,
   "metadata": {
    "colab": {
     "base_uri": "https://localhost:8080/",
     "height": 51
    },
    "id": "5jVt7zngolPV",
    "outputId": "425120a0-e5c3-4cc4-c5fb-9ab33b776ac3"
   },
   "outputs": [],
   "source": [
    "X_vector"
   ]
  },
  {
   "cell_type": "code",
   "execution_count": null,
   "metadata": {
    "colab": {
     "base_uri": "https://localhost:8080/",
     "height": 1000
    },
    "id": "EEmJS8x_syhB",
    "outputId": "ad7b1240-04b8-4133-8748-52991e31ed28",
    "scrolled": true
   },
   "outputs": [],
   "source": [
    "vectorizer.get_stop_words()"
   ]
  },
  {
   "cell_type": "code",
   "execution_count": null,
   "metadata": {
    "colab": {
     "base_uri": "https://localhost:8080/",
     "height": 51
    },
    "id": "lN6G2VyksyhE",
    "outputId": "f574caeb-197f-4ec4-e525-df14c2322864"
   },
   "outputs": [],
   "source": [
    "print(\"Количество слов в словаре: \", len(vectorizer.vocabulary_))\n",
    "X_vector.shape"
   ]
  },
  {
   "cell_type": "markdown",
   "metadata": {
    "id": "-L9JAjAxsyhG"
   },
   "source": [
    "Посмотрим на самые часто встречающиеся слова"
   ]
  },
  {
   "cell_type": "code",
   "execution_count": null,
   "metadata": {
    "colab": {
     "base_uri": "https://localhost:8080/",
     "height": 867
    },
    "id": "KJOOwCdVsyhH",
    "outputId": "b1e722c1-a498-4077-f7ca-c012b0b799d0",
    "scrolled": false
   },
   "outputs": [],
   "source": [
    "# sorted(vectorizer.vocabulary_.items(), key=lambda x: x[1], reverse=True)[:50]\n",
    "\n",
    "frequent_words = pd.DataFrame(columns=['Word', 'Count'])\n",
    "\n",
    "frequent_words['Word'] = vectorizer.get_feature_names()\n",
    "frequent_words['Count'] = X_vector.toarray().sum(axis=0)\n",
    "\n",
    "frequent_words.iloc[np.argsort(frequent_words['Count'],)][:-50:-1]"
   ]
  },
  {
   "cell_type": "markdown",
   "metadata": {
    "id": "WYXIKLKqsyhK"
   },
   "source": [
    "Чтобы понять, хуже чего нельзя быть, возьмем глупый классификатор, который говорит, что все спам."
   ]
  },
  {
   "cell_type": "code",
   "execution_count": null,
   "metadata": {
    "colab": {
     "base_uri": "https://localhost:8080/",
     "height": 102
    },
    "id": "DBu1QuoJsyhK",
    "outputId": "fd6556f0-1550-4e65-a312-8f761373110b"
   },
   "outputs": [],
   "source": [
    "from sklearn.dummy import DummyClassifier\n",
    "\n",
    "dm = DummyClassifier()\n",
    "%time cross_val_score(dm, X_vector, y, cv=3).mean()"
   ]
  },
  {
   "cell_type": "markdown",
   "metadata": {
    "id": "bpxKk0ucsyhN"
   },
   "source": [
    "Далее возьмем известный нам K ближайших соседей."
   ]
  },
  {
   "cell_type": "code",
   "execution_count": null,
   "metadata": {
    "colab": {
     "base_uri": "https://localhost:8080/",
     "height": 68
    },
    "id": "MZA-x7ZEsyhO",
    "outputId": "0860a797-5847-445f-c0f7-55526a6ba60b",
    "scrolled": true
   },
   "outputs": [],
   "source": [
    "from sklearn.neighbors import KNeighborsClassifier\n",
    "\n",
    "%time cross_val_score(KNeighborsClassifier(n_neighbors=42, n_jobs=4), X_vector, y, cv=3).mean()"
   ]
  },
  {
   "cell_type": "markdown",
   "metadata": {
    "id": "M-Z4_49WsyhQ"
   },
   "source": [
    "## А что скажет Байес?\n",
    "\n",
    "![](https://i.pinimg.com/736x/22/7e/52/227e52ea4622a62344f1bc0a31111f43--bayes-theorem-game-theory.jpg)\n",
    "\n",
    "$\\LARGE P(A|B) = \\frac{P(AB)}{P(B)} =  \\frac{P(B \\mid A)\\, P(A)}{P(B)}$"
   ]
  },
  {
   "cell_type": "markdown",
   "metadata": {
    "id": "Co92a6cwv3-Z"
   },
   "source": [
    "Рассмотрим один из вариантов реализации классификатора"
   ]
  },
  {
   "cell_type": "markdown",
   "metadata": {
    "id": "A4WwOl4FL0CA"
   },
   "source": [
    "### Наивный байесовский классификатор\n",
    "Очень хорошо про теорию написано [тут](http://bazhenov.me/blog/2012/06/11/naive-bayes.html). Попробуем реализовать по этой статье.\n",
    "\n",
    "Модель классификатора строится на основе обучающей выборки. \n",
    "По ней необходимо найти следующюю статистику:  \n",
    "1. Частоты классов в корпусе объектов (сколько объектов принадлежит каждому из классов)  (`classes_stats`)\n",
    "2. Cуммарное число слов в документах каждого класса (`words_per_class`, далее см. $L_c$)\n",
    "3. Частоты слов в пределах каждого класса (`word_freqs_per_class`, далее используется для расчета $W_{ic}$)\n",
    "4. Размер словаря выборки (число признаков) - кол-во уникальных слов в выборке (`num_features`)\n",
    "\n",
    "По сути, это метод `fit` классификатора.\n",
    "\n",
    "На этапе предсказания необходимо воспользоваться следующей формулой:\n",
    "\n",
    "$$\n",
    "\\begin{equation}\n",
    "predicted\\ class = \\operatorname*{arg\\max}_{c \\in C} \\left[\\log{{D_c} \\over {D}} + \\sum_{i \\in Q}{\\log{{W_{ic} + 1} \\over {|V| + L_c}}}\\right]\n",
    "\\end{equation}\n",
    "$$\n",
    "\n",
    "Поясним некоторые переменные в этом выражении:  \n",
    "$D_c$ - количество документов в обуч. выборке $\\in$ классу $c$\n",
    "\n",
    "$D$ - сколько всего было документов в обуч. выборке\n",
    "\n",
    "$|V|$ - количество уникальных слов во сех документах обуч. выборки\n",
    "\n",
    "$L_c$ - cуммарное число слов в документах класса $c$ обучающей выборки\n",
    " \n",
    "$W_{ic}$ - сколько раз $i$ слово встретилось в объектах класса $c$ обучающей выборки\n",
    "\n",
    "$Q$ - множество слов _классифицируемого_ документа\n",
    "\n",
    "\n"
   ]
  },
  {
   "cell_type": "code",
   "execution_count": null,
   "metadata": {
    "id": "hZNcSr5Q60qg"
   },
   "outputs": [],
   "source": [
    "X_train, X_test, y_train, y_test = train_test_split(X_vector, y, random_state=42, test_size=0.5)"
   ]
  },
  {
   "cell_type": "markdown",
   "metadata": {
    "id": "N90Jvxr_WPeW"
   },
   "source": [
    "Общая сигнатура классификатора такова:  \n",
    "```python\n",
    "class NaiveBayes:\n",
    "    def fit(self, x, y) -> None\n",
    "\n",
    "    def predict(self, x) -> List[str]\n",
    "```\n",
    "\n",
    "Найдем для начала различные статистики, описанные в разделе и в самом материале по ссылке"
   ]
  },
  {
   "cell_type": "markdown",
   "metadata": {
    "id": "_-MH1eM8W4iq"
   },
   "source": [
    "Общее число документов в обучающей выборке (`doc_num`)"
   ]
  },
  {
   "cell_type": "code",
   "execution_count": null,
   "metadata": {
    "colab": {
     "base_uri": "https://localhost:8080/",
     "height": 34
    },
    "id": "0RnprZc4W9z5",
    "outputId": "33ee4209-2ebb-4a07-eda7-6b1d527d7e4e"
   },
   "outputs": [],
   "source": [
    "doc_num = ### Ваш код ###\n",
    "doc_num"
   ]
  },
  {
   "cell_type": "markdown",
   "metadata": {
    "id": "L5Z3H4ptXTPU"
   },
   "source": [
    "Словарь, содержащий число объектов каждого класса (`classes_stats`)"
   ]
  },
  {
   "cell_type": "code",
   "execution_count": null,
   "metadata": {
    "colab": {
     "base_uri": "https://localhost:8080/",
     "height": 34
    },
    "id": "tmr8EJ0EXaLX",
    "outputId": "38b08bae-314c-4288-b476-f36902f38127"
   },
   "outputs": [],
   "source": [
    "classes_stats = ### Ваш код ###\n",
    "classes_stats"
   ]
  },
  {
   "cell_type": "markdown",
   "metadata": {
    "id": "Ed83xusIXl5B"
   },
   "source": [
    "Число уникальных признаков (слов) в тренировочной выборке (`num_features`)"
   ]
  },
  {
   "cell_type": "code",
   "execution_count": null,
   "metadata": {
    "colab": {
     "base_uri": "https://localhost:8080/",
     "height": 34
    },
    "id": "I0PVSiQjXwWV",
    "outputId": "fc2bfa89-50f2-4257-c87a-c65c225431cf"
   },
   "outputs": [],
   "source": [
    "num_features = ### Ваш код ###\n",
    "num_features"
   ]
  },
  {
   "cell_type": "markdown",
   "metadata": {
    "id": "y-_B84ViX8oN"
   },
   "source": [
    "Создадим словарь `indexes`, в котором ключом будет являться имя класса, а значением ключа - список строк матрицы X, принадлежащих конкретному классу"
   ]
  },
  {
   "cell_type": "markdown",
   "metadata": {
    "id": "nD97lSgElLJI"
   },
   "source": [
    "Обратите внимание на переменную `y` - это объект `Series` со сместившейся индексацией. Это индексацию необходимо исправить, воспользовавшись `Series.reset_index(drop=True)`"
   ]
  },
  {
   "cell_type": "code",
   "execution_count": null,
   "metadata": {
    "colab": {
     "base_uri": "https://localhost:8080/",
     "height": 153
    },
    "id": "XDJ3-6XLYP9U",
    "outputId": "dee04352-61b3-4089-b2fd-ae0745d64d35"
   },
   "outputs": [],
   "source": [
    "y = y_train.reset_index(drop=True)\n",
    "\n",
    "indexes = {}\n",
    "\n",
    "### Ваш код здесь ###\n",
    "\n",
    "indexes"
   ]
  },
  {
   "cell_type": "markdown",
   "metadata": {
    "id": "pALZj5hwjBpc"
   },
   "source": [
    "Используя найденные выше индексы, подсчитаем два важных параметра `words_per_class` и `word_freqs_per_class`.  \n",
    "Обе этих переменных являются словарями, но первая из них отвечает за суммарное число слов, использованных в **каждом классе**, а вторая показывает, сколько раз конкретное слово встретилось в документах определенного класса.  Соответственно, формат переменной `words_per_class` - `{str: int}`, формат `word_freqs_per_class` - `{str: List}`.\n",
    "Мы специально объеденили поиск двух разных статистик в одном блоке, чтобы избежать лишних циклов."
   ]
  },
  {
   "cell_type": "markdown",
   "metadata": {
    "id": "UIxMRE1NkLV8"
   },
   "source": [
    "Чтобы найти в X строки, относящиеся к тому или иному классу, воспользуйтесь поиском по маске `indexes` для нужного класса."
   ]
  },
  {
   "cell_type": "markdown",
   "metadata": {
    "id": "XmC-y5DCkhJT"
   },
   "source": [
    "Также помните, что X - это разреженная матрица, но из нее можно получить обычный массив через метод `toarray()`"
   ]
  },
  {
   "cell_type": "code",
   "execution_count": null,
   "metadata": {
    "colab": {
     "base_uri": "https://localhost:8080/",
     "height": 68
    },
    "id": "4a2459Vrj68G",
    "outputId": "6b039a72-e86c-4ded-8472-4ba5f00dd157"
   },
   "outputs": [],
   "source": [
    "x_arr = X_train.toarray()\n",
    "\n",
    "words_per_class = {}\n",
    "word_freqs_per_class = {}\n",
    "\n",
    "### Ваш код здесь ###\n",
    "\n",
    "words_per_class, word_freqs_per_class"
   ]
  },
  {
   "cell_type": "markdown",
   "metadata": {
    "id": "lb19IBkXldGy"
   },
   "source": [
    "Все вышенаписанные переменные образуют метод `fit` будущего классификатора. Теперь внесите этот код в метод `fit`, и не забудьте сделать найденный переменные полями класса."
   ]
  },
  {
   "cell_type": "code",
   "execution_count": null,
   "metadata": {
    "id": "TZVaSEnPl2gS"
   },
   "outputs": [],
   "source": [
    "class NaiveBayes:\n",
    "    def __init__(self):\n",
    "        pass\n",
    "\n",
    "    def fit(self, x, y):\n",
    "        self.classes_stats = ### Задайте поле как было показано выше ###\n",
    "\n",
    "        self.doc_num = ### Аналогично ###\n",
    "\n",
    "        self.num_features = ### Аналогично ###\n",
    "\n",
    "        ### Ваш код здесь ###"
   ]
  },
  {
   "cell_type": "markdown",
   "metadata": {
    "id": "v6Jmnn3jmTd2"
   },
   "source": [
    "Теперь реализуем метод `predict`. Если вы внимательно читали статью, то заметили, что в примере мы получили не чистые _вероятности_ классов, а всего лишь числовые оценки. Далее эти оценки можно перевести в вероятности при помощи софтмакса, но мы этого делать не будем."
   ]
  },
  {
   "cell_type": "markdown",
   "metadata": {
    "id": "BaoISxiPm4aE"
   },
   "source": [
    "Тогда промежуточный выход классификатора обозначим так:\n",
    "\n",
    "`pred_per_class = [{класс: оценка}, ... , {класс: оценка}]`\n",
    "\n",
    "Получая новую оценку для класса, мы сравниваем ее с уже имеющейся в массиве. Если она больше, то перезаписываем значение. Индекс словарика = индексу  строки в матрице Х./\n",
    "\n",
    "Не забудьте о следующих вещах:\n",
    "- `X_test` - это такая же разряженная матрица, нужно превратить ее в список\n",
    "- переменная $ {D_c} \\over {D} $ одинакова для одного класса.\n",
    "- Чтобы подсчитать $W_{ic}$ воспользуйтесь `word_freqs_per_class`.\n",
    "- Чтобы понять, какие элементы вам нужно брать в `word_freqs_per_class`, найдите индексы ненулевых элементов в классифицируемой строке - если эти элементы ненулевые, значит, там было какое-то слово (логично, не правда ли?)\n",
    "\n",
    "Теперь просто выберите класс с наибольшей оценкой, и сформируйте список классов."
   ]
  },
  {
   "cell_type": "code",
   "execution_count": null,
   "metadata": {
    "id": "yz6AfBHbnccX"
   },
   "outputs": [],
   "source": [
    "import math\n",
    "\n",
    "def predict(x):\n",
    "    pass"
   ]
  },
  {
   "cell_type": "code",
   "execution_count": null,
   "metadata": {
    "colab": {
     "base_uri": "https://localhost:8080/",
     "height": 34
    },
    "id": "JD8AJgPsquYE",
    "outputId": "75e898c3-1094-4a25-8c17-ffa46b93fa54"
   },
   "outputs": [],
   "source": [
    "len(predict(X_test)) == len(y_test)\n"
   ]
  },
  {
   "cell_type": "markdown",
   "metadata": {
    "id": "Zs4admvHqYB_"
   },
   "source": [
    "Соберем весь классификатор вместе"
   ]
  },
  {
   "cell_type": "code",
   "execution_count": null,
   "metadata": {
    "id": "Tb6edZm9qW6i"
   },
   "outputs": [],
   "source": [
    "class NaiveBayes:\n",
    "    def __init__(self):\n",
    "        pass\n",
    "\n",
    "    def fit(self, x, y):\n",
    "        #####################\n",
    "        ### Ваш код здесь ###\n",
    "        #####################\n",
    "        pass\n",
    "\n",
    "    def predict(self, x):\n",
    "        #####################\n",
    "        ### Ваш код здесь ###\n",
    "        #####################\n",
    "        pass"
   ]
  },
  {
   "cell_type": "code",
   "execution_count": null,
   "metadata": {
    "colab": {
     "base_uri": "https://localhost:8080/",
     "height": 204
    },
    "id": "kYYz0f2xiwdm",
    "outputId": "0a96af13-c0ca-4c1e-b83b-9a08ef396806"
   },
   "outputs": [],
   "source": [
    "mnb = NaiveBayes()\n",
    "\n",
    "mnb.fit(X_train, y_train.reset_index(drop=True))\n",
    "pred = mnb.predict(X_test)\n",
    "\n",
    "print(classification_report(y_test.reset_index(drop=True), pred))\n",
    "print(confusion_matrix(y_test.reset_index(drop=True), pred))"
   ]
  },
  {
   "cell_type": "markdown",
   "metadata": {
    "id": "8sw1lb_iupmL"
   },
   "source": [
    "Сравним его с версией из `sklearn`"
   ]
  },
  {
   "cell_type": "code",
   "execution_count": null,
   "metadata": {
    "colab": {
     "base_uri": "https://localhost:8080/",
     "height": 204
    },
    "id": "JLY-jQ1ZunXw",
    "outputId": "426500c4-00ad-4be1-f680-044482bafdbf"
   },
   "outputs": [],
   "source": [
    "from sklearn.naive_bayes import MultinomialNB\n",
    "\n",
    "clf = MultinomialNB(alpha=4)\n",
    "clf.fit(X_train, y_train)\n",
    "\n",
    "y_pred = clf.predict(X_test)\n",
    "print(classification_report(y_test, y_pred))\n",
    "\n",
    "print(confusion_matrix(y_test, y_pred))"
   ]
  },
  {
   "cell_type": "markdown",
   "metadata": {
    "id": "4Tph0obBsyhc"
   },
   "source": [
    "# Дополнительные материалы\n",
    "\n",
    "[Snowball](http://snowball.tartarus.org/) – фрэймворк для написания алгоритмов стемминга. Алгоритмы стемминга отличаются для разных языков и используют знания о конкретном языке – списки окончаний для разных чистей речи, разных склонений и т.д. Пример алгоритма для русского языка – [Russian stemming](http://snowballstem.org/algorithms/russian/stemmer.html).\n",
    "\n",
    "Доступно в библиотеке nltk: `stemmer = nltk.stem.snowball.RussianStemmer()`\n",
    "\n",
    "\n",
    "Для лемматизации русского языка можно использовать pymorphy2. \n",
    "```\n",
    "import pymorphy2\n",
    "morph = pymorphy2.MorphAnalyzer()\n",
    "morph.parse('играющих')[0]\n",
    "```"
   ]
  }
 ],
 "metadata": {
  "accelerator": "GPU",
  "colab": {
   "collapsed_sections": [],
   "name": "02_ws_text_classification_bayesV2.ipynb",
   "provenance": [],
   "toc_visible": true
  },
  "kernelspec": {
   "display_name": "Python 3",
   "language": "python",
   "name": "python3"
  },
  "language_info": {
   "codemirror_mode": {
    "name": "ipython",
    "version": 3
   },
   "file_extension": ".py",
   "mimetype": "text/x-python",
   "name": "python",
   "nbconvert_exporter": "python",
   "pygments_lexer": "ipython3",
   "version": "3.8.5"
  }
 },
 "nbformat": 4,
 "nbformat_minor": 1
}
